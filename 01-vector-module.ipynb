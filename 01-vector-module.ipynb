{
 "cells": [
  {
   "cell_type": "code",
   "execution_count": 1,
   "id": "ba30ea7e",
   "metadata": {},
   "outputs": [],
   "source": [
    "class Vector(object):\n",
    "    def __init__(self, coordinates):\n",
    "        try:\n",
    "            if not coordinates:\n",
    "                raise ValueError\n",
    "            self.coordinates = tuple(coordinates)\n",
    "            self.dimension = len(coordinates)\n",
    "            \n",
    "        except ValueError:\n",
    "            raise ValueError('The coordinates must be nonempty')\n",
    "        \n",
    "        except TypeError:\n",
    "            raise TypeError('The coordinates must be an iterable')\n",
    "        \n",
    "    \n",
    "    def __str__(self):\n",
    "        return 'Vector: {}'.format(self.coordinates)\n",
    "    \n",
    "    def __eq__(self, v):\n",
    "        return self.coordinates == v.coordinates"
   ]
  },
  {
   "cell_type": "code",
   "execution_count": 13,
   "id": "cad9f214",
   "metadata": {},
   "outputs": [],
   "source": [
    " my_vector = Vector([1,2,3])"
   ]
  },
  {
   "cell_type": "code",
   "execution_count": 14,
   "id": "53b522ee",
   "metadata": {},
   "outputs": [
    {
     "name": "stdout",
     "output_type": "stream",
     "text": [
      "Vector: (1, 2, 3)\n"
     ]
    }
   ],
   "source": [
    "print(my_vector)"
   ]
  },
  {
   "cell_type": "code",
   "execution_count": 15,
   "id": "624e7866",
   "metadata": {},
   "outputs": [],
   "source": [
    "my_vector2 = Vector([-1,2,3])"
   ]
  },
  {
   "cell_type": "code",
   "execution_count": 16,
   "id": "d00c15c7",
   "metadata": {},
   "outputs": [],
   "source": [
    "my_vector3 = Vector([1,2,3])"
   ]
  },
  {
   "cell_type": "code",
   "execution_count": 17,
   "id": "e6ce2629",
   "metadata": {},
   "outputs": [
    {
     "name": "stdout",
     "output_type": "stream",
     "text": [
      "False\n"
     ]
    }
   ],
   "source": [
    "print(my_vector == my_vector2)"
   ]
  },
  {
   "cell_type": "code",
   "execution_count": 18,
   "id": "5cfcf703",
   "metadata": {},
   "outputs": [
    {
     "name": "stdout",
     "output_type": "stream",
     "text": [
      "True\n"
     ]
    }
   ],
   "source": [
    "print(my_vector == my_vector3)"
   ]
  },
  {
   "cell_type": "code",
   "execution_count": 19,
   "id": "093a140f",
   "metadata": {},
   "outputs": [
    {
     "name": "stdout",
     "output_type": "stream",
     "text": [
      "Vector: (1, 2, 3) Vector: (-1, 2, 3) Vector: (1, 2, 3)\n"
     ]
    }
   ],
   "source": [
    "print(my_vector, my_vector2, my_vector3)"
   ]
  },
  {
   "cell_type": "code",
   "execution_count": null,
   "id": "8207cd8b",
   "metadata": {},
   "outputs": [],
   "source": []
  }
 ],
 "metadata": {
  "kernelspec": {
   "display_name": "Python 3 (ipykernel)",
   "language": "python",
   "name": "python3"
  },
  "language_info": {
   "codemirror_mode": {
    "name": "ipython",
    "version": 3
   },
   "file_extension": ".py",
   "mimetype": "text/x-python",
   "name": "python",
   "nbconvert_exporter": "python",
   "pygments_lexer": "ipython3",
   "version": "3.9.7"
  }
 },
 "nbformat": 4,
 "nbformat_minor": 5
}
